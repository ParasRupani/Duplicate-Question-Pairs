{
 "cells": [
  {
   "cell_type": "code",
   "execution_count": 132,
   "metadata": {},
   "outputs": [],
   "source": [
    "import numpy as np\n",
    "import pandas as pd\n",
    "import glob\n",
    "import tqdm"
   ]
  },
  {
   "cell_type": "code",
   "execution_count": 89,
   "metadata": {},
   "outputs": [
    {
     "data": {
      "text/html": [
       "<div>\n",
       "<style scoped>\n",
       "    .dataframe tbody tr th:only-of-type {\n",
       "        vertical-align: middle;\n",
       "    }\n",
       "\n",
       "    .dataframe tbody tr th {\n",
       "        vertical-align: top;\n",
       "    }\n",
       "\n",
       "    .dataframe thead th {\n",
       "        text-align: right;\n",
       "    }\n",
       "</style>\n",
       "<table border=\"1\" class=\"dataframe\">\n",
       "  <thead>\n",
       "    <tr style=\"text-align: right;\">\n",
       "      <th></th>\n",
       "      <th>idx</th>\n",
       "      <th>q1</th>\n",
       "      <th>d1</th>\n",
       "      <th>d2</th>\n",
       "      <th>d3</th>\n",
       "      <th>d4</th>\n",
       "      <th>d5</th>\n",
       "    </tr>\n",
       "  </thead>\n",
       "  <tbody>\n",
       "    <tr>\n",
       "      <th>0</th>\n",
       "      <td>3000</td>\n",
       "      <td>Is it a good idea to go for masters in data sc...</td>\n",
       "      <td>Is it advisable to pursue a data science maste...</td>\n",
       "      <td>With 7 years of experience in Indian banking, ...</td>\n",
       "      <td>Would it be wise for me, as a btech graduate w...</td>\n",
       "      <td>As a BTech graduate with 7+ years of experienc...</td>\n",
       "      <td>Should I consider studying data science abroad...</td>\n",
       "    </tr>\n",
       "    <tr>\n",
       "      <th>1</th>\n",
       "      <td>3001</td>\n",
       "      <td>How can a mini cloud storage device be built o...</td>\n",
       "      <td>What is the process for creating a miniature c...</td>\n",
       "      <td>How can one go about constructing or assemblin...</td>\n",
       "      <td>Can you explain the steps involved in building...</td>\n",
       "      <td>Is it possible to create or manufacture a mini...</td>\n",
       "      <td>In what way can a miniature cloud storage devi...</td>\n",
       "    </tr>\n",
       "    <tr>\n",
       "      <th>2</th>\n",
       "      <td>3002</td>\n",
       "      <td>How can we use data analytics or data science ...</td>\n",
       "      <td>In what ways can data analytics or data scienc...</td>\n",
       "      <td>How can data analytics or data science be appl...</td>\n",
       "      <td>What are the potential applications of data an...</td>\n",
       "      <td>Can data analytics or Data Science be applied ...</td>\n",
       "      <td>What are some practical uses of data analytics...</td>\n",
       "    </tr>\n",
       "    <tr>\n",
       "      <th>3</th>\n",
       "      <td>3003</td>\n",
       "      <td>Why am I not getting sum option in Power BI? I...</td>\n",
       "      <td>I am not able to access the sum option in Powe...</td>\n",
       "      <td>How come I am not able to access the sum funct...</td>\n",
       "      <td>Power BI is not providing the sum option, and ...</td>\n",
       "      <td>Why isn't the Sum option available in Power BI...</td>\n",
       "      <td>What could be the reason for not being able to...</td>\n",
       "    </tr>\n",
       "    <tr>\n",
       "      <th>4</th>\n",
       "      <td>3004</td>\n",
       "      <td>As a research assistant, you were assigned to ...</td>\n",
       "      <td>Your role as a research assistant involved col...</td>\n",
       "      <td>What are the potential issues with the timelin...</td>\n",
       "      <td>As a research assistant, you are responsible f...</td>\n",
       "      <td>In your capacity as a research assistant, you ...</td>\n",
       "      <td>You work as a research assistant. We are going...</td>\n",
       "    </tr>\n",
       "  </tbody>\n",
       "</table>\n",
       "</div>"
      ],
      "text/plain": [
       "    idx                                                 q1  \\\n",
       "0  3000  Is it a good idea to go for masters in data sc...   \n",
       "1  3001  How can a mini cloud storage device be built o...   \n",
       "2  3002  How can we use data analytics or data science ...   \n",
       "3  3003  Why am I not getting sum option in Power BI? I...   \n",
       "4  3004  As a research assistant, you were assigned to ...   \n",
       "\n",
       "                                                  d1  \\\n",
       "0  Is it advisable to pursue a data science maste...   \n",
       "1  What is the process for creating a miniature c...   \n",
       "2  In what ways can data analytics or data scienc...   \n",
       "3  I am not able to access the sum option in Powe...   \n",
       "4  Your role as a research assistant involved col...   \n",
       "\n",
       "                                                  d2  \\\n",
       "0  With 7 years of experience in Indian banking, ...   \n",
       "1  How can one go about constructing or assemblin...   \n",
       "2  How can data analytics or data science be appl...   \n",
       "3  How come I am not able to access the sum funct...   \n",
       "4  What are the potential issues with the timelin...   \n",
       "\n",
       "                                                  d3  \\\n",
       "0  Would it be wise for me, as a btech graduate w...   \n",
       "1  Can you explain the steps involved in building...   \n",
       "2  What are the potential applications of data an...   \n",
       "3  Power BI is not providing the sum option, and ...   \n",
       "4  As a research assistant, you are responsible f...   \n",
       "\n",
       "                                                  d4  \\\n",
       "0  As a BTech graduate with 7+ years of experienc...   \n",
       "1  Is it possible to create or manufacture a mini...   \n",
       "2  Can data analytics or Data Science be applied ...   \n",
       "3  Why isn't the Sum option available in Power BI...   \n",
       "4  In your capacity as a research assistant, you ...   \n",
       "\n",
       "                                                  d5  \n",
       "0  Should I consider studying data science abroad...  \n",
       "1  In what way can a miniature cloud storage devi...  \n",
       "2  What are some practical uses of data analytics...  \n",
       "3  What could be the reason for not being able to...  \n",
       "4  You work as a research assistant. We are going...  "
      ]
     },
     "execution_count": 89,
     "metadata": {},
     "output_type": "execute_result"
    }
   ],
   "source": [
    "df = pd.read_csv(\"pairs\\pairs_3999.csv\")\n",
    "df = df[df.columns[1:]]\n",
    "df.head()"
   ]
  },
  {
   "cell_type": "code",
   "execution_count": 90,
   "metadata": {},
   "outputs": [
    {
     "data": {
      "text/plain": [
       "array([3000,\n",
       "       'Is it a good idea to go for masters in data science abroad after a 7+ years experience in Indian banking? I’m a btech graduate and I’m trying for a career switch. I recently completed Google data analytics course and found this field interesting.',\n",
       "       \"Is it advisable to pursue a data science master's degree abroad as btech graduate who has worked in Indian banking for over 7 years, and am now considering pursuing specialized training through my Google data analytics course?\",\n",
       "       \"With 7 years of experience in Indian banking, is it worth considering a master's degree program in data science abroad? I recently completed specialized training on Google analytics.\",\n",
       "       'Would it be wise for me, as a btech graduate with 7 years of experience in Indian banking, to pursue specialized training abroad after completing & initiating an Google data analytics course, on the cusp of switching my career?',\n",
       "       \"As a BTech graduate with 7+ years of experience in Indian banking, I'm considering pursuing specialized training in data science abroad. I recently completed ten courses on Google analytics and found myself in shambles about the industry.\",\n",
       "       'Should I consider studying data science abroad as a BTech graduate with 7+ years of experience in Indian banking? I recently completed XIV Global MBA program and have just started working on my Google Analytics degree.'],\n",
       "      dtype=object)"
      ]
     },
     "execution_count": 90,
     "metadata": {},
     "output_type": "execute_result"
    }
   ],
   "source": [
    "df.values[0]"
   ]
  },
  {
   "cell_type": "code",
   "execution_count": 91,
   "metadata": {},
   "outputs": [
    {
     "data": {
      "text/html": [
       "<div>\n",
       "<style scoped>\n",
       "    .dataframe tbody tr th:only-of-type {\n",
       "        vertical-align: middle;\n",
       "    }\n",
       "\n",
       "    .dataframe tbody tr th {\n",
       "        vertical-align: top;\n",
       "    }\n",
       "\n",
       "    .dataframe thead th {\n",
       "        text-align: right;\n",
       "    }\n",
       "</style>\n",
       "<table border=\"1\" class=\"dataframe\">\n",
       "  <thead>\n",
       "    <tr style=\"text-align: right;\">\n",
       "      <th></th>\n",
       "      <th>idx</th>\n",
       "      <th>q1</th>\n",
       "      <th>d1</th>\n",
       "      <th>d2</th>\n",
       "    </tr>\n",
       "  </thead>\n",
       "  <tbody>\n",
       "    <tr>\n",
       "      <th>0</th>\n",
       "      <td>3000</td>\n",
       "      <td>Is it a good idea to go for masters in data sc...</td>\n",
       "      <td>Is it advisable to pursue a data science maste...</td>\n",
       "      <td>With 7 years of experience in Indian banking, ...</td>\n",
       "    </tr>\n",
       "    <tr>\n",
       "      <th>1</th>\n",
       "      <td>3001</td>\n",
       "      <td>How can a mini cloud storage device be built o...</td>\n",
       "      <td>What is the process for creating a miniature c...</td>\n",
       "      <td>How can one go about constructing or assemblin...</td>\n",
       "    </tr>\n",
       "    <tr>\n",
       "      <th>2</th>\n",
       "      <td>3002</td>\n",
       "      <td>How can we use data analytics or data science ...</td>\n",
       "      <td>In what ways can data analytics or data scienc...</td>\n",
       "      <td>How can data analytics or data science be appl...</td>\n",
       "    </tr>\n",
       "    <tr>\n",
       "      <th>3</th>\n",
       "      <td>3003</td>\n",
       "      <td>Why am I not getting sum option in Power BI? I...</td>\n",
       "      <td>I am not able to access the sum option in Powe...</td>\n",
       "      <td>How come I am not able to access the sum funct...</td>\n",
       "    </tr>\n",
       "    <tr>\n",
       "      <th>4</th>\n",
       "      <td>3004</td>\n",
       "      <td>As a research assistant, you were assigned to ...</td>\n",
       "      <td>Your role as a research assistant involved col...</td>\n",
       "      <td>What are the potential issues with the timelin...</td>\n",
       "    </tr>\n",
       "  </tbody>\n",
       "</table>\n",
       "</div>"
      ],
      "text/plain": [
       "    idx                                                 q1  \\\n",
       "0  3000  Is it a good idea to go for masters in data sc...   \n",
       "1  3001  How can a mini cloud storage device be built o...   \n",
       "2  3002  How can we use data analytics or data science ...   \n",
       "3  3003  Why am I not getting sum option in Power BI? I...   \n",
       "4  3004  As a research assistant, you were assigned to ...   \n",
       "\n",
       "                                                  d1  \\\n",
       "0  Is it advisable to pursue a data science maste...   \n",
       "1  What is the process for creating a miniature c...   \n",
       "2  In what ways can data analytics or data scienc...   \n",
       "3  I am not able to access the sum option in Powe...   \n",
       "4  Your role as a research assistant involved col...   \n",
       "\n",
       "                                                  d2  \n",
       "0  With 7 years of experience in Indian banking, ...  \n",
       "1  How can one go about constructing or assemblin...  \n",
       "2  How can data analytics or data science be appl...  \n",
       "3  How come I am not able to access the sum funct...  \n",
       "4  What are the potential issues with the timelin...  "
      ]
     },
     "execution_count": 91,
     "metadata": {},
     "output_type": "execute_result"
    }
   ],
   "source": [
    "df_similar = df[[\"idx\", \"q1\", \"d1\", \"d2\"]]\n",
    "df_similar.head()"
   ]
  },
  {
   "cell_type": "code",
   "execution_count": 92,
   "metadata": {},
   "outputs": [],
   "source": [
    "df_similar1 = df_similar[[\"idx\", \"q1\", \"d1\"]]\n",
    "df_similar1.columns = [\"idx\", \"q1\", \"q2\"]\n",
    "df_similar2 = df_similar[[\"idx\", \"q1\", \"d2\"]]\n",
    "df_similar2.columns = [\"idx\", \"q1\", \"q2\"]\n",
    "df_similar = pd.concat([df_similar1, df_similar2], ignore_index=True)\n",
    "df_similar[\"labels\"] = 1"
   ]
  },
  {
   "cell_type": "code",
   "execution_count": 93,
   "metadata": {},
   "outputs": [
    {
     "data": {
      "text/html": [
       "<div>\n",
       "<style scoped>\n",
       "    .dataframe tbody tr th:only-of-type {\n",
       "        vertical-align: middle;\n",
       "    }\n",
       "\n",
       "    .dataframe tbody tr th {\n",
       "        vertical-align: top;\n",
       "    }\n",
       "\n",
       "    .dataframe thead th {\n",
       "        text-align: right;\n",
       "    }\n",
       "</style>\n",
       "<table border=\"1\" class=\"dataframe\">\n",
       "  <thead>\n",
       "    <tr style=\"text-align: right;\">\n",
       "      <th></th>\n",
       "      <th>idx</th>\n",
       "      <th>q1</th>\n",
       "      <th>q2</th>\n",
       "      <th>labels</th>\n",
       "    </tr>\n",
       "  </thead>\n",
       "  <tbody>\n",
       "    <tr>\n",
       "      <th>1524</th>\n",
       "      <td>3524</td>\n",
       "      <td>66 marks in GAT test are good enough for MS in...</td>\n",
       "      <td>Would a GAT score of 66 be enough to qualify f...</td>\n",
       "      <td>1</td>\n",
       "    </tr>\n",
       "    <tr>\n",
       "      <th>524</th>\n",
       "      <td>3524</td>\n",
       "      <td>66 marks in GAT test are good enough for MS in...</td>\n",
       "      <td>Is a GAT score of 66 sufficient for admission ...</td>\n",
       "      <td>1</td>\n",
       "    </tr>\n",
       "    <tr>\n",
       "      <th>958</th>\n",
       "      <td>3958</td>\n",
       "      <td>A BA graduate with no work-ex should do MBA in...</td>\n",
       "      <td>For a BA graduate who has no experience in wor...</td>\n",
       "      <td>1</td>\n",
       "    </tr>\n",
       "    <tr>\n",
       "      <th>1958</th>\n",
       "      <td>3958</td>\n",
       "      <td>A BA graduate with no work-ex should do MBA in...</td>\n",
       "      <td>If you have graduated with a BA and no prior w...</td>\n",
       "      <td>1</td>\n",
       "    </tr>\n",
       "    <tr>\n",
       "      <th>1067</th>\n",
       "      <td>3067</td>\n",
       "      <td>A Tik-Tok video claims if a forecast states a ...</td>\n",
       "      <td>According to the Tik-Tok video, what is the pe...</td>\n",
       "      <td>1</td>\n",
       "    </tr>\n",
       "  </tbody>\n",
       "</table>\n",
       "</div>"
      ],
      "text/plain": [
       "       idx                                                 q1  \\\n",
       "1524  3524  66 marks in GAT test are good enough for MS in...   \n",
       "524   3524  66 marks in GAT test are good enough for MS in...   \n",
       "958   3958  A BA graduate with no work-ex should do MBA in...   \n",
       "1958  3958  A BA graduate with no work-ex should do MBA in...   \n",
       "1067  3067  A Tik-Tok video claims if a forecast states a ...   \n",
       "\n",
       "                                                     q2  labels  \n",
       "1524  Would a GAT score of 66 be enough to qualify f...       1  \n",
       "524   Is a GAT score of 66 sufficient for admission ...       1  \n",
       "958   For a BA graduate who has no experience in wor...       1  \n",
       "1958  If you have graduated with a BA and no prior w...       1  \n",
       "1067  According to the Tik-Tok video, what is the pe...       1  "
      ]
     },
     "execution_count": 93,
     "metadata": {},
     "output_type": "execute_result"
    }
   ],
   "source": [
    "df_similar.sort_values(by=[\"q1\"]).head()"
   ]
  },
  {
   "cell_type": "code",
   "execution_count": 104,
   "metadata": {},
   "outputs": [
    {
     "data": {
      "text/html": [
       "<div>\n",
       "<style scoped>\n",
       "    .dataframe tbody tr th:only-of-type {\n",
       "        vertical-align: middle;\n",
       "    }\n",
       "\n",
       "    .dataframe tbody tr th {\n",
       "        vertical-align: top;\n",
       "    }\n",
       "\n",
       "    .dataframe thead th {\n",
       "        text-align: right;\n",
       "    }\n",
       "</style>\n",
       "<table border=\"1\" class=\"dataframe\">\n",
       "  <thead>\n",
       "    <tr style=\"text-align: right;\">\n",
       "      <th></th>\n",
       "      <th>idx</th>\n",
       "      <th>q1</th>\n",
       "      <th>d3</th>\n",
       "      <th>d4</th>\n",
       "      <th>d5</th>\n",
       "    </tr>\n",
       "  </thead>\n",
       "  <tbody>\n",
       "    <tr>\n",
       "      <th>0</th>\n",
       "      <td>3000</td>\n",
       "      <td>Is it a good idea to go for masters in data sc...</td>\n",
       "      <td>Would it be wise for me, as a btech graduate w...</td>\n",
       "      <td>As a BTech graduate with 7+ years of experienc...</td>\n",
       "      <td>Should I consider studying data science abroad...</td>\n",
       "    </tr>\n",
       "    <tr>\n",
       "      <th>1</th>\n",
       "      <td>3001</td>\n",
       "      <td>How can a mini cloud storage device be built o...</td>\n",
       "      <td>Can you explain the steps involved in building...</td>\n",
       "      <td>Is it possible to create or manufacture a mini...</td>\n",
       "      <td>In what way can a miniature cloud storage devi...</td>\n",
       "    </tr>\n",
       "    <tr>\n",
       "      <th>2</th>\n",
       "      <td>3002</td>\n",
       "      <td>How can we use data analytics or data science ...</td>\n",
       "      <td>What are the potential applications of data an...</td>\n",
       "      <td>Can data analytics or Data Science be applied ...</td>\n",
       "      <td>What are some practical uses of data analytics...</td>\n",
       "    </tr>\n",
       "    <tr>\n",
       "      <th>3</th>\n",
       "      <td>3003</td>\n",
       "      <td>Why am I not getting sum option in Power BI? I...</td>\n",
       "      <td>Power BI is not providing the sum option, and ...</td>\n",
       "      <td>Why isn't the Sum option available in Power BI...</td>\n",
       "      <td>What could be the reason for not being able to...</td>\n",
       "    </tr>\n",
       "    <tr>\n",
       "      <th>4</th>\n",
       "      <td>3004</td>\n",
       "      <td>As a research assistant, you were assigned to ...</td>\n",
       "      <td>As a research assistant, you are responsible f...</td>\n",
       "      <td>In your capacity as a research assistant, you ...</td>\n",
       "      <td>You work as a research assistant. We are going...</td>\n",
       "    </tr>\n",
       "  </tbody>\n",
       "</table>\n",
       "</div>"
      ],
      "text/plain": [
       "    idx                                                 q1  \\\n",
       "0  3000  Is it a good idea to go for masters in data sc...   \n",
       "1  3001  How can a mini cloud storage device be built o...   \n",
       "2  3002  How can we use data analytics or data science ...   \n",
       "3  3003  Why am I not getting sum option in Power BI? I...   \n",
       "4  3004  As a research assistant, you were assigned to ...   \n",
       "\n",
       "                                                  d3  \\\n",
       "0  Would it be wise for me, as a btech graduate w...   \n",
       "1  Can you explain the steps involved in building...   \n",
       "2  What are the potential applications of data an...   \n",
       "3  Power BI is not providing the sum option, and ...   \n",
       "4  As a research assistant, you are responsible f...   \n",
       "\n",
       "                                                  d4  \\\n",
       "0  As a BTech graduate with 7+ years of experienc...   \n",
       "1  Is it possible to create or manufacture a mini...   \n",
       "2  Can data analytics or Data Science be applied ...   \n",
       "3  Why isn't the Sum option available in Power BI...   \n",
       "4  In your capacity as a research assistant, you ...   \n",
       "\n",
       "                                                  d5  \n",
       "0  Should I consider studying data science abroad...  \n",
       "1  In what way can a miniature cloud storage devi...  \n",
       "2  What are some practical uses of data analytics...  \n",
       "3  What could be the reason for not being able to...  \n",
       "4  You work as a research assistant. We are going...  "
      ]
     },
     "execution_count": 104,
     "metadata": {},
     "output_type": "execute_result"
    }
   ],
   "source": [
    "df_notsimilar = df[[\"idx\", \"q1\", \"d3\", \"d4\", \"d5\"]]\n",
    "df_notsimilar.head()"
   ]
  },
  {
   "cell_type": "code",
   "execution_count": 105,
   "metadata": {},
   "outputs": [],
   "source": [
    "df_notsimilar1 = df_notsimilar[[\"idx\", \"q1\", \"d3\"]]\n",
    "df_notsimilar1.columns = [\"idx\", \"q1\", \"q2\"]\n",
    "df_notsimilar2 = df_notsimilar[[\"idx\", \"q1\", \"d4\"]]\n",
    "df_notsimilar2.columns = [\"idx\", \"q1\", \"q2\"]\n",
    "df_notsimilar3 = df_notsimilar[[\"idx\", \"q1\", \"d5\"]]\n",
    "df_notsimilar3.columns = [\"idx\", \"q1\", \"q2\"]"
   ]
  },
  {
   "cell_type": "code",
   "execution_count": 106,
   "metadata": {},
   "outputs": [
    {
     "data": {
      "text/html": [
       "<div>\n",
       "<style scoped>\n",
       "    .dataframe tbody tr th:only-of-type {\n",
       "        vertical-align: middle;\n",
       "    }\n",
       "\n",
       "    .dataframe tbody tr th {\n",
       "        vertical-align: top;\n",
       "    }\n",
       "\n",
       "    .dataframe thead th {\n",
       "        text-align: right;\n",
       "    }\n",
       "</style>\n",
       "<table border=\"1\" class=\"dataframe\">\n",
       "  <thead>\n",
       "    <tr style=\"text-align: right;\">\n",
       "      <th></th>\n",
       "      <th>idx</th>\n",
       "      <th>q1</th>\n",
       "      <th>q2</th>\n",
       "    </tr>\n",
       "  </thead>\n",
       "  <tbody>\n",
       "    <tr>\n",
       "      <th>0</th>\n",
       "      <td>3000</td>\n",
       "      <td>Is it a good idea to go for masters in data sc...</td>\n",
       "      <td>Would it be wise for me, as a btech graduate w...</td>\n",
       "    </tr>\n",
       "    <tr>\n",
       "      <th>1</th>\n",
       "      <td>3001</td>\n",
       "      <td>How can a mini cloud storage device be built o...</td>\n",
       "      <td>Can you explain the steps involved in building...</td>\n",
       "    </tr>\n",
       "    <tr>\n",
       "      <th>2</th>\n",
       "      <td>3002</td>\n",
       "      <td>How can we use data analytics or data science ...</td>\n",
       "      <td>What are the potential applications of data an...</td>\n",
       "    </tr>\n",
       "    <tr>\n",
       "      <th>3</th>\n",
       "      <td>3003</td>\n",
       "      <td>Why am I not getting sum option in Power BI? I...</td>\n",
       "      <td>Power BI is not providing the sum option, and ...</td>\n",
       "    </tr>\n",
       "    <tr>\n",
       "      <th>4</th>\n",
       "      <td>3004</td>\n",
       "      <td>As a research assistant, you were assigned to ...</td>\n",
       "      <td>As a research assistant, you are responsible f...</td>\n",
       "    </tr>\n",
       "  </tbody>\n",
       "</table>\n",
       "</div>"
      ],
      "text/plain": [
       "    idx                                                 q1  \\\n",
       "0  3000  Is it a good idea to go for masters in data sc...   \n",
       "1  3001  How can a mini cloud storage device be built o...   \n",
       "2  3002  How can we use data analytics or data science ...   \n",
       "3  3003  Why am I not getting sum option in Power BI? I...   \n",
       "4  3004  As a research assistant, you were assigned to ...   \n",
       "\n",
       "                                                  q2  \n",
       "0  Would it be wise for me, as a btech graduate w...  \n",
       "1  Can you explain the steps involved in building...  \n",
       "2  What are the potential applications of data an...  \n",
       "3  Power BI is not providing the sum option, and ...  \n",
       "4  As a research assistant, you are responsible f...  "
      ]
     },
     "execution_count": 106,
     "metadata": {},
     "output_type": "execute_result"
    }
   ],
   "source": [
    "df_notsimilar1.head()"
   ]
  },
  {
   "cell_type": "code",
   "execution_count": 107,
   "metadata": {},
   "outputs": [
    {
     "data": {
      "text/html": [
       "<div>\n",
       "<style scoped>\n",
       "    .dataframe tbody tr th:only-of-type {\n",
       "        vertical-align: middle;\n",
       "    }\n",
       "\n",
       "    .dataframe tbody tr th {\n",
       "        vertical-align: top;\n",
       "    }\n",
       "\n",
       "    .dataframe thead th {\n",
       "        text-align: right;\n",
       "    }\n",
       "</style>\n",
       "<table border=\"1\" class=\"dataframe\">\n",
       "  <thead>\n",
       "    <tr style=\"text-align: right;\">\n",
       "      <th></th>\n",
       "      <th>idx</th>\n",
       "      <th>q1</th>\n",
       "      <th>q2</th>\n",
       "    </tr>\n",
       "  </thead>\n",
       "  <tbody>\n",
       "    <tr>\n",
       "      <th>0</th>\n",
       "      <td>3000</td>\n",
       "      <td>Is it a good idea to go for masters in data sc...</td>\n",
       "      <td>As a BTech graduate with 7+ years of experienc...</td>\n",
       "    </tr>\n",
       "    <tr>\n",
       "      <th>1</th>\n",
       "      <td>3001</td>\n",
       "      <td>How can a mini cloud storage device be built o...</td>\n",
       "      <td>Is it possible to create or manufacture a mini...</td>\n",
       "    </tr>\n",
       "    <tr>\n",
       "      <th>2</th>\n",
       "      <td>3002</td>\n",
       "      <td>How can we use data analytics or data science ...</td>\n",
       "      <td>Can data analytics or Data Science be applied ...</td>\n",
       "    </tr>\n",
       "    <tr>\n",
       "      <th>3</th>\n",
       "      <td>3003</td>\n",
       "      <td>Why am I not getting sum option in Power BI? I...</td>\n",
       "      <td>Why isn't the Sum option available in Power BI...</td>\n",
       "    </tr>\n",
       "    <tr>\n",
       "      <th>4</th>\n",
       "      <td>3004</td>\n",
       "      <td>As a research assistant, you were assigned to ...</td>\n",
       "      <td>In your capacity as a research assistant, you ...</td>\n",
       "    </tr>\n",
       "  </tbody>\n",
       "</table>\n",
       "</div>"
      ],
      "text/plain": [
       "    idx                                                 q1  \\\n",
       "0  3000  Is it a good idea to go for masters in data sc...   \n",
       "1  3001  How can a mini cloud storage device be built o...   \n",
       "2  3002  How can we use data analytics or data science ...   \n",
       "3  3003  Why am I not getting sum option in Power BI? I...   \n",
       "4  3004  As a research assistant, you were assigned to ...   \n",
       "\n",
       "                                                  q2  \n",
       "0  As a BTech graduate with 7+ years of experienc...  \n",
       "1  Is it possible to create or manufacture a mini...  \n",
       "2  Can data analytics or Data Science be applied ...  \n",
       "3  Why isn't the Sum option available in Power BI...  \n",
       "4  In your capacity as a research assistant, you ...  "
      ]
     },
     "execution_count": 107,
     "metadata": {},
     "output_type": "execute_result"
    }
   ],
   "source": [
    "df_notsimilar2.head()"
   ]
  },
  {
   "cell_type": "code",
   "execution_count": 108,
   "metadata": {},
   "outputs": [
    {
     "data": {
      "text/html": [
       "<div>\n",
       "<style scoped>\n",
       "    .dataframe tbody tr th:only-of-type {\n",
       "        vertical-align: middle;\n",
       "    }\n",
       "\n",
       "    .dataframe tbody tr th {\n",
       "        vertical-align: top;\n",
       "    }\n",
       "\n",
       "    .dataframe thead th {\n",
       "        text-align: right;\n",
       "    }\n",
       "</style>\n",
       "<table border=\"1\" class=\"dataframe\">\n",
       "  <thead>\n",
       "    <tr style=\"text-align: right;\">\n",
       "      <th></th>\n",
       "      <th>idx</th>\n",
       "      <th>q1</th>\n",
       "      <th>q2</th>\n",
       "    </tr>\n",
       "  </thead>\n",
       "  <tbody>\n",
       "    <tr>\n",
       "      <th>0</th>\n",
       "      <td>3000</td>\n",
       "      <td>Is it a good idea to go for masters in data sc...</td>\n",
       "      <td>Should I consider studying data science abroad...</td>\n",
       "    </tr>\n",
       "    <tr>\n",
       "      <th>1</th>\n",
       "      <td>3001</td>\n",
       "      <td>How can a mini cloud storage device be built o...</td>\n",
       "      <td>In what way can a miniature cloud storage devi...</td>\n",
       "    </tr>\n",
       "    <tr>\n",
       "      <th>2</th>\n",
       "      <td>3002</td>\n",
       "      <td>How can we use data analytics or data science ...</td>\n",
       "      <td>What are some practical uses of data analytics...</td>\n",
       "    </tr>\n",
       "    <tr>\n",
       "      <th>3</th>\n",
       "      <td>3003</td>\n",
       "      <td>Why am I not getting sum option in Power BI? I...</td>\n",
       "      <td>What could be the reason for not being able to...</td>\n",
       "    </tr>\n",
       "    <tr>\n",
       "      <th>4</th>\n",
       "      <td>3004</td>\n",
       "      <td>As a research assistant, you were assigned to ...</td>\n",
       "      <td>You work as a research assistant. We are going...</td>\n",
       "    </tr>\n",
       "  </tbody>\n",
       "</table>\n",
       "</div>"
      ],
      "text/plain": [
       "    idx                                                 q1  \\\n",
       "0  3000  Is it a good idea to go for masters in data sc...   \n",
       "1  3001  How can a mini cloud storage device be built o...   \n",
       "2  3002  How can we use data analytics or data science ...   \n",
       "3  3003  Why am I not getting sum option in Power BI? I...   \n",
       "4  3004  As a research assistant, you were assigned to ...   \n",
       "\n",
       "                                                  q2  \n",
       "0  Should I consider studying data science abroad...  \n",
       "1  In what way can a miniature cloud storage devi...  \n",
       "2  What are some practical uses of data analytics...  \n",
       "3  What could be the reason for not being able to...  \n",
       "4  You work as a research assistant. We are going...  "
      ]
     },
     "execution_count": 108,
     "metadata": {},
     "output_type": "execute_result"
    }
   ],
   "source": [
    "df_notsimilar3.head()"
   ]
  },
  {
   "cell_type": "code",
   "execution_count": 109,
   "metadata": {},
   "outputs": [],
   "source": [
    "np.random.shuffle(df_notsimilar1[\"q2\"].values)\n",
    "np.random.shuffle(df_notsimilar2[\"q2\"].values)\n",
    "np.random.shuffle(df_notsimilar3[\"q2\"].values)"
   ]
  },
  {
   "cell_type": "code",
   "execution_count": 110,
   "metadata": {},
   "outputs": [
    {
     "data": {
      "text/html": [
       "<div>\n",
       "<style scoped>\n",
       "    .dataframe tbody tr th:only-of-type {\n",
       "        vertical-align: middle;\n",
       "    }\n",
       "\n",
       "    .dataframe tbody tr th {\n",
       "        vertical-align: top;\n",
       "    }\n",
       "\n",
       "    .dataframe thead th {\n",
       "        text-align: right;\n",
       "    }\n",
       "</style>\n",
       "<table border=\"1\" class=\"dataframe\">\n",
       "  <thead>\n",
       "    <tr style=\"text-align: right;\">\n",
       "      <th></th>\n",
       "      <th>idx</th>\n",
       "      <th>q1</th>\n",
       "      <th>q2</th>\n",
       "    </tr>\n",
       "  </thead>\n",
       "  <tbody>\n",
       "    <tr>\n",
       "      <th>0</th>\n",
       "      <td>3000</td>\n",
       "      <td>Is it a good idea to go for masters in data sc...</td>\n",
       "      <td>In the world, what is the percentage of indivi...</td>\n",
       "    </tr>\n",
       "    <tr>\n",
       "      <th>1</th>\n",
       "      <td>3001</td>\n",
       "      <td>How can a mini cloud storage device be built o...</td>\n",
       "      <td>Can you suggest some male names that sound low...</td>\n",
       "    </tr>\n",
       "    <tr>\n",
       "      <th>2</th>\n",
       "      <td>3002</td>\n",
       "      <td>How can we use data analytics or data science ...</td>\n",
       "      <td>How does Concordia University of Edmonton's ma...</td>\n",
       "    </tr>\n",
       "    <tr>\n",
       "      <th>3</th>\n",
       "      <td>3003</td>\n",
       "      <td>Why am I not getting sum option in Power BI? I...</td>\n",
       "      <td>I'm a computer science engineering student in ...</td>\n",
       "    </tr>\n",
       "    <tr>\n",
       "      <th>4</th>\n",
       "      <td>3004</td>\n",
       "      <td>As a research assistant, you were assigned to ...</td>\n",
       "      <td>Will ISRO accept applications from final year ...</td>\n",
       "    </tr>\n",
       "  </tbody>\n",
       "</table>\n",
       "</div>"
      ],
      "text/plain": [
       "    idx                                                 q1  \\\n",
       "0  3000  Is it a good idea to go for masters in data sc...   \n",
       "1  3001  How can a mini cloud storage device be built o...   \n",
       "2  3002  How can we use data analytics or data science ...   \n",
       "3  3003  Why am I not getting sum option in Power BI? I...   \n",
       "4  3004  As a research assistant, you were assigned to ...   \n",
       "\n",
       "                                                  q2  \n",
       "0  In the world, what is the percentage of indivi...  \n",
       "1  Can you suggest some male names that sound low...  \n",
       "2  How does Concordia University of Edmonton's ma...  \n",
       "3  I'm a computer science engineering student in ...  \n",
       "4  Will ISRO accept applications from final year ...  "
      ]
     },
     "execution_count": 110,
     "metadata": {},
     "output_type": "execute_result"
    }
   ],
   "source": [
    "df_notsimilar1.head()"
   ]
  },
  {
   "cell_type": "code",
   "execution_count": 111,
   "metadata": {},
   "outputs": [
    {
     "data": {
      "text/html": [
       "<div>\n",
       "<style scoped>\n",
       "    .dataframe tbody tr th:only-of-type {\n",
       "        vertical-align: middle;\n",
       "    }\n",
       "\n",
       "    .dataframe tbody tr th {\n",
       "        vertical-align: top;\n",
       "    }\n",
       "\n",
       "    .dataframe thead th {\n",
       "        text-align: right;\n",
       "    }\n",
       "</style>\n",
       "<table border=\"1\" class=\"dataframe\">\n",
       "  <thead>\n",
       "    <tr style=\"text-align: right;\">\n",
       "      <th></th>\n",
       "      <th>idx</th>\n",
       "      <th>q1</th>\n",
       "      <th>q2</th>\n",
       "    </tr>\n",
       "  </thead>\n",
       "  <tbody>\n",
       "    <tr>\n",
       "      <th>0</th>\n",
       "      <td>3000</td>\n",
       "      <td>Is it a good idea to go for masters in data sc...</td>\n",
       "      <td>With 3 years of experience in an MNC and a sal...</td>\n",
       "    </tr>\n",
       "    <tr>\n",
       "      <th>1</th>\n",
       "      <td>3001</td>\n",
       "      <td>How can a mini cloud storage device be built o...</td>\n",
       "      <td>Is there a way to export and import your Googl...</td>\n",
       "    </tr>\n",
       "    <tr>\n",
       "      <th>2</th>\n",
       "      <td>3002</td>\n",
       "      <td>How can we use data analytics or data science ...</td>\n",
       "      <td>Which degree in engineering is the most benefi...</td>\n",
       "    </tr>\n",
       "    <tr>\n",
       "      <th>3</th>\n",
       "      <td>3003</td>\n",
       "      <td>Why am I not getting sum option in Power BI? I...</td>\n",
       "      <td>How would you define CDB AIA at Cognizant and ...</td>\n",
       "    </tr>\n",
       "    <tr>\n",
       "      <th>4</th>\n",
       "      <td>3004</td>\n",
       "      <td>As a research assistant, you were assigned to ...</td>\n",
       "      <td>Could you suggest some brief one-liners on the...</td>\n",
       "    </tr>\n",
       "  </tbody>\n",
       "</table>\n",
       "</div>"
      ],
      "text/plain": [
       "    idx                                                 q1  \\\n",
       "0  3000  Is it a good idea to go for masters in data sc...   \n",
       "1  3001  How can a mini cloud storage device be built o...   \n",
       "2  3002  How can we use data analytics or data science ...   \n",
       "3  3003  Why am I not getting sum option in Power BI? I...   \n",
       "4  3004  As a research assistant, you were assigned to ...   \n",
       "\n",
       "                                                  q2  \n",
       "0  With 3 years of experience in an MNC and a sal...  \n",
       "1  Is there a way to export and import your Googl...  \n",
       "2  Which degree in engineering is the most benefi...  \n",
       "3  How would you define CDB AIA at Cognizant and ...  \n",
       "4  Could you suggest some brief one-liners on the...  "
      ]
     },
     "execution_count": 111,
     "metadata": {},
     "output_type": "execute_result"
    }
   ],
   "source": [
    "df_notsimilar2.head()"
   ]
  },
  {
   "cell_type": "code",
   "execution_count": 112,
   "metadata": {},
   "outputs": [
    {
     "data": {
      "text/html": [
       "<div>\n",
       "<style scoped>\n",
       "    .dataframe tbody tr th:only-of-type {\n",
       "        vertical-align: middle;\n",
       "    }\n",
       "\n",
       "    .dataframe tbody tr th {\n",
       "        vertical-align: top;\n",
       "    }\n",
       "\n",
       "    .dataframe thead th {\n",
       "        text-align: right;\n",
       "    }\n",
       "</style>\n",
       "<table border=\"1\" class=\"dataframe\">\n",
       "  <thead>\n",
       "    <tr style=\"text-align: right;\">\n",
       "      <th></th>\n",
       "      <th>idx</th>\n",
       "      <th>q1</th>\n",
       "      <th>q2</th>\n",
       "    </tr>\n",
       "  </thead>\n",
       "  <tbody>\n",
       "    <tr>\n",
       "      <th>0</th>\n",
       "      <td>3000</td>\n",
       "      <td>Is it a good idea to go for masters in data sc...</td>\n",
       "      <td>Hey all, I'm Karim from Morocco and I want to ...</td>\n",
       "    </tr>\n",
       "    <tr>\n",
       "      <th>1</th>\n",
       "      <td>3001</td>\n",
       "      <td>How can a mini cloud storage device be built o...</td>\n",
       "      <td>What are the steps to follow when creating a d...</td>\n",
       "    </tr>\n",
       "    <tr>\n",
       "      <th>2</th>\n",
       "      <td>3002</td>\n",
       "      <td>How can we use data analytics or data science ...</td>\n",
       "      <td>Is it better to join Newgen or Capgemini as a ...</td>\n",
       "    </tr>\n",
       "    <tr>\n",
       "      <th>3</th>\n",
       "      <td>3003</td>\n",
       "      <td>Why am I not getting sum option in Power BI? I...</td>\n",
       "      <td>Why does IT industry is experiencing recession?</td>\n",
       "    </tr>\n",
       "    <tr>\n",
       "      <th>4</th>\n",
       "      <td>3004</td>\n",
       "      <td>As a research assistant, you were assigned to ...</td>\n",
       "      <td>In what ways are linear models, interactive mo...</td>\n",
       "    </tr>\n",
       "  </tbody>\n",
       "</table>\n",
       "</div>"
      ],
      "text/plain": [
       "    idx                                                 q1  \\\n",
       "0  3000  Is it a good idea to go for masters in data sc...   \n",
       "1  3001  How can a mini cloud storage device be built o...   \n",
       "2  3002  How can we use data analytics or data science ...   \n",
       "3  3003  Why am I not getting sum option in Power BI? I...   \n",
       "4  3004  As a research assistant, you were assigned to ...   \n",
       "\n",
       "                                                  q2  \n",
       "0  Hey all, I'm Karim from Morocco and I want to ...  \n",
       "1  What are the steps to follow when creating a d...  \n",
       "2  Is it better to join Newgen or Capgemini as a ...  \n",
       "3    Why does IT industry is experiencing recession?  \n",
       "4  In what ways are linear models, interactive mo...  "
      ]
     },
     "execution_count": 112,
     "metadata": {},
     "output_type": "execute_result"
    }
   ],
   "source": [
    "df_notsimilar3.head()"
   ]
  },
  {
   "cell_type": "code",
   "execution_count": 113,
   "metadata": {},
   "outputs": [],
   "source": [
    "df_notsimilar = pd.concat([df_notsimilar1, df_notsimilar2, df_notsimilar3], ignore_index=True)\n",
    "df_notsimilar[\"labels\"] = 0"
   ]
  },
  {
   "cell_type": "code",
   "execution_count": 114,
   "metadata": {},
   "outputs": [
    {
     "data": {
      "text/html": [
       "<div>\n",
       "<style scoped>\n",
       "    .dataframe tbody tr th:only-of-type {\n",
       "        vertical-align: middle;\n",
       "    }\n",
       "\n",
       "    .dataframe tbody tr th {\n",
       "        vertical-align: top;\n",
       "    }\n",
       "\n",
       "    .dataframe thead th {\n",
       "        text-align: right;\n",
       "    }\n",
       "</style>\n",
       "<table border=\"1\" class=\"dataframe\">\n",
       "  <thead>\n",
       "    <tr style=\"text-align: right;\">\n",
       "      <th></th>\n",
       "      <th>idx</th>\n",
       "      <th>q1</th>\n",
       "      <th>q2</th>\n",
       "      <th>labels</th>\n",
       "    </tr>\n",
       "  </thead>\n",
       "  <tbody>\n",
       "    <tr>\n",
       "      <th>2524</th>\n",
       "      <td>3524</td>\n",
       "      <td>66 marks in GAT test are good enough for MS in...</td>\n",
       "      <td>Which is more lucrative, a Health Data Science...</td>\n",
       "      <td>0</td>\n",
       "    </tr>\n",
       "    <tr>\n",
       "      <th>1524</th>\n",
       "      <td>3524</td>\n",
       "      <td>66 marks in GAT test are good enough for MS in...</td>\n",
       "      <td>I am looking to hire a complete digital market...</td>\n",
       "      <td>0</td>\n",
       "    </tr>\n",
       "    <tr>\n",
       "      <th>524</th>\n",
       "      <td>3524</td>\n",
       "      <td>66 marks in GAT test are good enough for MS in...</td>\n",
       "      <td>Which career choice, mechanical or data engine...</td>\n",
       "      <td>0</td>\n",
       "    </tr>\n",
       "    <tr>\n",
       "      <th>2958</th>\n",
       "      <td>3958</td>\n",
       "      <td>A BA graduate with no work-ex should do MBA in...</td>\n",
       "      <td>Can online certification courses, such as busi...</td>\n",
       "      <td>0</td>\n",
       "    </tr>\n",
       "    <tr>\n",
       "      <th>958</th>\n",
       "      <td>3958</td>\n",
       "      <td>A BA graduate with no work-ex should do MBA in...</td>\n",
       "      <td>When is it difficult to interpret the informat...</td>\n",
       "      <td>0</td>\n",
       "    </tr>\n",
       "  </tbody>\n",
       "</table>\n",
       "</div>"
      ],
      "text/plain": [
       "       idx                                                 q1  \\\n",
       "2524  3524  66 marks in GAT test are good enough for MS in...   \n",
       "1524  3524  66 marks in GAT test are good enough for MS in...   \n",
       "524   3524  66 marks in GAT test are good enough for MS in...   \n",
       "2958  3958  A BA graduate with no work-ex should do MBA in...   \n",
       "958   3958  A BA graduate with no work-ex should do MBA in...   \n",
       "\n",
       "                                                     q2  labels  \n",
       "2524  Which is more lucrative, a Health Data Science...       0  \n",
       "1524  I am looking to hire a complete digital market...       0  \n",
       "524   Which career choice, mechanical or data engine...       0  \n",
       "2958  Can online certification courses, such as busi...       0  \n",
       "958   When is it difficult to interpret the informat...       0  "
      ]
     },
     "execution_count": 114,
     "metadata": {},
     "output_type": "execute_result"
    }
   ],
   "source": [
    "df_notsimilar.sort_values(by=[\"q1\"]).head()"
   ]
  },
  {
   "cell_type": "code",
   "execution_count": 115,
   "metadata": {},
   "outputs": [
    {
     "data": {
      "text/html": [
       "<div>\n",
       "<style scoped>\n",
       "    .dataframe tbody tr th:only-of-type {\n",
       "        vertical-align: middle;\n",
       "    }\n",
       "\n",
       "    .dataframe tbody tr th {\n",
       "        vertical-align: top;\n",
       "    }\n",
       "\n",
       "    .dataframe thead th {\n",
       "        text-align: right;\n",
       "    }\n",
       "</style>\n",
       "<table border=\"1\" class=\"dataframe\">\n",
       "  <thead>\n",
       "    <tr style=\"text-align: right;\">\n",
       "      <th></th>\n",
       "      <th>idx</th>\n",
       "      <th>q1</th>\n",
       "      <th>q2</th>\n",
       "      <th>labels</th>\n",
       "    </tr>\n",
       "  </thead>\n",
       "  <tbody>\n",
       "    <tr>\n",
       "      <th>0</th>\n",
       "      <td>3000</td>\n",
       "      <td>Is it a good idea to go for masters in data sc...</td>\n",
       "      <td>Is it advisable to pursue a data science maste...</td>\n",
       "      <td>1</td>\n",
       "    </tr>\n",
       "    <tr>\n",
       "      <th>1</th>\n",
       "      <td>3001</td>\n",
       "      <td>How can a mini cloud storage device be built o...</td>\n",
       "      <td>What is the process for creating a miniature c...</td>\n",
       "      <td>1</td>\n",
       "    </tr>\n",
       "    <tr>\n",
       "      <th>2</th>\n",
       "      <td>3002</td>\n",
       "      <td>How can we use data analytics or data science ...</td>\n",
       "      <td>In what ways can data analytics or data scienc...</td>\n",
       "      <td>1</td>\n",
       "    </tr>\n",
       "    <tr>\n",
       "      <th>3</th>\n",
       "      <td>3003</td>\n",
       "      <td>Why am I not getting sum option in Power BI? I...</td>\n",
       "      <td>I am not able to access the sum option in Powe...</td>\n",
       "      <td>1</td>\n",
       "    </tr>\n",
       "    <tr>\n",
       "      <th>4</th>\n",
       "      <td>3004</td>\n",
       "      <td>As a research assistant, you were assigned to ...</td>\n",
       "      <td>Your role as a research assistant involved col...</td>\n",
       "      <td>1</td>\n",
       "    </tr>\n",
       "    <tr>\n",
       "      <th>...</th>\n",
       "      <td>...</td>\n",
       "      <td>...</td>\n",
       "      <td>...</td>\n",
       "      <td>...</td>\n",
       "    </tr>\n",
       "    <tr>\n",
       "      <th>4995</th>\n",
       "      <td>3995</td>\n",
       "      <td>I am working in a private sector but not happy...</td>\n",
       "      <td>What are the steps to enroll in a PG program w...</td>\n",
       "      <td>0</td>\n",
       "    </tr>\n",
       "    <tr>\n",
       "      <th>4996</th>\n",
       "      <td>3996</td>\n",
       "      <td>Which all government jobs have provision for h...</td>\n",
       "      <td>How many employers and companies recognize the...</td>\n",
       "      <td>0</td>\n",
       "    </tr>\n",
       "    <tr>\n",
       "      <th>4997</th>\n",
       "      <td>3997</td>\n",
       "      <td>Which are the different colleges in Bangalore ...</td>\n",
       "      <td>How can I improve my chances of landing an ana...</td>\n",
       "      <td>0</td>\n",
       "    </tr>\n",
       "    <tr>\n",
       "      <th>4998</th>\n",
       "      <td>3998</td>\n",
       "      <td>Which is the best option for an electrical eng...</td>\n",
       "      <td>Despite being an undergraduate student in info...</td>\n",
       "      <td>0</td>\n",
       "    </tr>\n",
       "    <tr>\n",
       "      <th>4999</th>\n",
       "      <td>3999</td>\n",
       "      <td>Where are software engineers paid the most?</td>\n",
       "      <td>How does a Master of Engineering Management de...</td>\n",
       "      <td>0</td>\n",
       "    </tr>\n",
       "  </tbody>\n",
       "</table>\n",
       "<p>5000 rows × 4 columns</p>\n",
       "</div>"
      ],
      "text/plain": [
       "       idx                                                 q1  \\\n",
       "0     3000  Is it a good idea to go for masters in data sc...   \n",
       "1     3001  How can a mini cloud storage device be built o...   \n",
       "2     3002  How can we use data analytics or data science ...   \n",
       "3     3003  Why am I not getting sum option in Power BI? I...   \n",
       "4     3004  As a research assistant, you were assigned to ...   \n",
       "...    ...                                                ...   \n",
       "4995  3995  I am working in a private sector but not happy...   \n",
       "4996  3996  Which all government jobs have provision for h...   \n",
       "4997  3997  Which are the different colleges in Bangalore ...   \n",
       "4998  3998  Which is the best option for an electrical eng...   \n",
       "4999  3999        Where are software engineers paid the most?   \n",
       "\n",
       "                                                     q2  labels  \n",
       "0     Is it advisable to pursue a data science maste...       1  \n",
       "1     What is the process for creating a miniature c...       1  \n",
       "2     In what ways can data analytics or data scienc...       1  \n",
       "3     I am not able to access the sum option in Powe...       1  \n",
       "4     Your role as a research assistant involved col...       1  \n",
       "...                                                 ...     ...  \n",
       "4995  What are the steps to enroll in a PG program w...       0  \n",
       "4996  How many employers and companies recognize the...       0  \n",
       "4997  How can I improve my chances of landing an ana...       0  \n",
       "4998  Despite being an undergraduate student in info...       0  \n",
       "4999  How does a Master of Engineering Management de...       0  \n",
       "\n",
       "[5000 rows x 4 columns]"
      ]
     },
     "execution_count": 115,
     "metadata": {},
     "output_type": "execute_result"
    }
   ],
   "source": [
    "df_set = pd.concat([df_similar, df_notsimilar], ignore_index=True)\n",
    "df_set"
   ]
  },
  {
   "cell_type": "code",
   "execution_count": 120,
   "metadata": {},
   "outputs": [
    {
     "data": {
      "text/html": [
       "<div>\n",
       "<style scoped>\n",
       "    .dataframe tbody tr th:only-of-type {\n",
       "        vertical-align: middle;\n",
       "    }\n",
       "\n",
       "    .dataframe tbody tr th {\n",
       "        vertical-align: top;\n",
       "    }\n",
       "\n",
       "    .dataframe thead th {\n",
       "        text-align: right;\n",
       "    }\n",
       "</style>\n",
       "<table border=\"1\" class=\"dataframe\">\n",
       "  <thead>\n",
       "    <tr style=\"text-align: right;\">\n",
       "      <th></th>\n",
       "      <th>idx</th>\n",
       "      <th>q1</th>\n",
       "      <th>q2</th>\n",
       "      <th>labels</th>\n",
       "    </tr>\n",
       "  </thead>\n",
       "  <tbody>\n",
       "    <tr>\n",
       "      <th>0</th>\n",
       "      <td>3524</td>\n",
       "      <td>66 marks in GAT test are good enough for MS in...</td>\n",
       "      <td>Which is more lucrative, a Health Data Science...</td>\n",
       "      <td>0</td>\n",
       "    </tr>\n",
       "    <tr>\n",
       "      <th>1</th>\n",
       "      <td>3524</td>\n",
       "      <td>66 marks in GAT test are good enough for MS in...</td>\n",
       "      <td>I am looking to hire a complete digital market...</td>\n",
       "      <td>0</td>\n",
       "    </tr>\n",
       "    <tr>\n",
       "      <th>2</th>\n",
       "      <td>3524</td>\n",
       "      <td>66 marks in GAT test are good enough for MS in...</td>\n",
       "      <td>Is a GAT score of 66 sufficient for admission ...</td>\n",
       "      <td>1</td>\n",
       "    </tr>\n",
       "    <tr>\n",
       "      <th>3</th>\n",
       "      <td>3524</td>\n",
       "      <td>66 marks in GAT test are good enough for MS in...</td>\n",
       "      <td>Which career choice, mechanical or data engine...</td>\n",
       "      <td>0</td>\n",
       "    </tr>\n",
       "    <tr>\n",
       "      <th>4</th>\n",
       "      <td>3524</td>\n",
       "      <td>66 marks in GAT test are good enough for MS in...</td>\n",
       "      <td>Would a GAT score of 66 be enough to qualify f...</td>\n",
       "      <td>1</td>\n",
       "    </tr>\n",
       "  </tbody>\n",
       "</table>\n",
       "</div>"
      ],
      "text/plain": [
       "    idx                                                 q1  \\\n",
       "0  3524  66 marks in GAT test are good enough for MS in...   \n",
       "1  3524  66 marks in GAT test are good enough for MS in...   \n",
       "2  3524  66 marks in GAT test are good enough for MS in...   \n",
       "3  3524  66 marks in GAT test are good enough for MS in...   \n",
       "4  3524  66 marks in GAT test are good enough for MS in...   \n",
       "\n",
       "                                                  q2  labels  \n",
       "0  Which is more lucrative, a Health Data Science...       0  \n",
       "1  I am looking to hire a complete digital market...       0  \n",
       "2  Is a GAT score of 66 sufficient for admission ...       1  \n",
       "3  Which career choice, mechanical or data engine...       0  \n",
       "4  Would a GAT score of 66 be enough to qualify f...       1  "
      ]
     },
     "execution_count": 120,
     "metadata": {},
     "output_type": "execute_result"
    }
   ],
   "source": [
    "df_set = df_set.drop_duplicates(subset=[\"q1\",\"q2\"]).sort_values(by=[\"q1\"]).reset_index(drop=True)\n",
    "df_set.head()"
   ]
  },
  {
   "cell_type": "code",
   "execution_count": 124,
   "metadata": {},
   "outputs": [
    {
     "data": {
      "text/plain": [
       "array([[3524,\n",
       "        '66 marks in GAT test are good enough for MS in nust in field of data science and artificial intelligence?',\n",
       "        'Which is more lucrative, a Health Data Science course or Public Health?',\n",
       "        0],\n",
       "       [3524,\n",
       "        '66 marks in GAT test are good enough for MS in nust in field of data science and artificial intelligence?',\n",
       "        'I am looking to hire a complete digital marketing strategist with no minimum or upper limit, but within £5k. Who should I bring on board and what is the procedure?',\n",
       "        0],\n",
       "       [3524,\n",
       "        '66 marks in GAT test are good enough for MS in nust in field of data science and artificial intelligence?',\n",
       "        'Is a GAT score of 66 sufficient for admission to MS in data science and artificial intelligence program at NUSTI?',\n",
       "        1]], dtype=object)"
      ]
     },
     "execution_count": 124,
     "metadata": {},
     "output_type": "execute_result"
    }
   ],
   "source": [
    "df_set.values[:3]"
   ]
  },
  {
   "cell_type": "code",
   "execution_count": 133,
   "metadata": {},
   "outputs": [
    {
     "name": "stderr",
     "output_type": "stream",
     "text": [
      "100%|██████████| 20/20 [00:00<00:00, 23.16it/s]\n"
     ]
    }
   ],
   "source": [
    "csv_list = glob.glob(\"pairs/*pairs_*.csv\")\n",
    "set_list = []\n",
    "\n",
    "for path in tqdm.tqdm(csv_list):\n",
    "    df = pd.read_csv(path)\n",
    "    df = df[df.columns[1:]]\n",
    "    df_similar = df[[\"idx\", \"q1\", \"d1\", \"d2\"]]\n",
    "    df_similar1 = df_similar[[\"idx\", \"q1\", \"d1\"]]\n",
    "    df_similar1.columns = [\"idx\", \"q1\", \"q2\"]\n",
    "    df_similar2 = df_similar[[\"idx\", \"q1\", \"d2\"]]\n",
    "    df_similar2.columns = [\"idx\", \"q1\", \"q2\"]\n",
    "    df_similar = pd.concat([df_similar1, df_similar2], ignore_index=True)\n",
    "    df_similar[\"labels\"] = 1\n",
    "    df_notsimilar = df[[\"idx\", \"q1\", \"d3\", \"d4\", \"d5\"]]\n",
    "    df_notsimilar1 = df_notsimilar[[\"idx\", \"q1\", \"d3\"]]\n",
    "    df_notsimilar1.columns = [\"idx\", \"q1\", \"q2\"]\n",
    "    df_notsimilar2 = df_notsimilar[[\"idx\", \"q1\", \"d4\"]]\n",
    "    df_notsimilar2.columns = [\"idx\", \"q1\", \"q2\"]\n",
    "    df_notsimilar3 = df_notsimilar[[\"idx\", \"q1\", \"d5\"]]\n",
    "    df_notsimilar3.columns = [\"idx\", \"q1\", \"q2\"]\n",
    "    np.random.shuffle(df_notsimilar1[\"q2\"].values)\n",
    "    np.random.shuffle(df_notsimilar2[\"q2\"].values)\n",
    "    np.random.shuffle(df_notsimilar3[\"q2\"].values)\n",
    "    df_notsimilar = pd.concat([df_notsimilar1, df_notsimilar2, df_notsimilar3], ignore_index=True)\n",
    "    df_notsimilar[\"labels\"] = 0\n",
    "    df_set = pd.concat([df_similar, df_notsimilar], ignore_index=True)\n",
    "    df_set = df_set.drop_duplicates(subset=[\"q1\",\"q2\"]).sort_values(by=[\"q1\"]).reset_index(drop=True)\n",
    "    set_list.append(df_set)"
   ]
  },
  {
   "cell_type": "code",
   "execution_count": 135,
   "metadata": {},
   "outputs": [],
   "source": [
    "sentence_pairs = pd.concat(set_list, ignore_index=True)\n",
    "sentence_pairs = sentence_pairs.drop_duplicates(subset=[\"q1\",\"q2\"]).sort_values(by=[\"q1\"]).reset_index(drop=True)"
   ]
  },
  {
   "cell_type": "code",
   "execution_count": 137,
   "metadata": {},
   "outputs": [],
   "source": [
    "sentence_pairs.to_csv(\"pairs/sentence-pairs.csv\", index=False)"
   ]
  },
  {
   "cell_type": "code",
   "execution_count": 142,
   "metadata": {},
   "outputs": [],
   "source": [
    "from sentence_transformers import SentenceTransformer, util\n",
    "model = SentenceTransformer('sentence-transformers/all-MiniLM-L6-v2', device=\"cuda\")"
   ]
  },
  {
   "cell_type": "code",
   "execution_count": 147,
   "metadata": {},
   "outputs": [],
   "source": [
    "scores = []"
   ]
  },
  {
   "cell_type": "code",
   "execution_count": 148,
   "metadata": {},
   "outputs": [
    {
     "name": "stderr",
     "output_type": "stream",
     "text": [
      "100%|██████████| 94733/94733 [10:08<00:00, 155.58it/s]\n"
     ]
    }
   ],
   "source": [
    "for ind in tqdm.tqdm(range(len(sentence_pairs))):\n",
    "    sentences = [sentence_pairs.loc[ind,\"q1\"], sentence_pairs.loc[ind, \"q2\"]]\n",
    "    embeddings = model.encode(sentences)\n",
    "    scores.append(util.cos_sim(embeddings[0],embeddings[1]))"
   ]
  },
  {
   "cell_type": "code",
   "execution_count": 153,
   "metadata": {},
   "outputs": [],
   "source": [
    "scoresf = [float(i) for i in scores]"
   ]
  },
  {
   "cell_type": "code",
   "execution_count": 155,
   "metadata": {},
   "outputs": [],
   "source": [
    "sentence_pairs[\"cos_sim\"] = scoresf"
   ]
  },
  {
   "cell_type": "code",
   "execution_count": 156,
   "metadata": {},
   "outputs": [],
   "source": [
    "sentence_pairs.to_csv(\"pairs/sentence-pairs-cos.csv\", index=False)"
   ]
  },
  {
   "cell_type": "code",
   "execution_count": 157,
   "metadata": {},
   "outputs": [
    {
     "data": {
      "text/plain": [
       "labels\n",
       "0    0.147896\n",
       "1    0.871013\n",
       "Name: cos_sim, dtype: float64"
      ]
     },
     "execution_count": 157,
     "metadata": {},
     "output_type": "execute_result"
    }
   ],
   "source": [
    "sentence_pairs.groupby(\"labels\")[\"cos_sim\"].mean()"
   ]
  },
  {
   "cell_type": "code",
   "execution_count": 158,
   "metadata": {},
   "outputs": [
    {
     "data": {
      "text/plain": [
       "labels\n",
       "0    0.144229\n",
       "1    0.081408\n",
       "Name: cos_sim, dtype: float64"
      ]
     },
     "execution_count": 158,
     "metadata": {},
     "output_type": "execute_result"
    }
   ],
   "source": [
    "sentence_pairs.groupby(\"labels\")[\"cos_sim\"].std()"
   ]
  },
  {
   "cell_type": "code",
   "execution_count": 162,
   "metadata": {},
   "outputs": [],
   "source": [
    "import matplotlib.pyplot as plt\n",
    "import seaborn as sns"
   ]
  },
  {
   "cell_type": "code",
   "execution_count": 163,
   "metadata": {},
   "outputs": [
    {
     "data": {
      "image/png": "[encoded data removed]",
      "text/plain": [
       "<Figure size 640x480 with 1 Axes>"
      ]
     },
     "metadata": {},
     "output_type": "display_data"
    }
   ],
   "source": [
    "sns.boxplot(sentence_pairs, x=\"labels\", y=\"cos_sim\")\n",
    "plt.show()"
   ]
  },
  {
   "cell_type": "code",
   "execution_count": 164,
   "metadata": {},
   "outputs": [
    {
     "data": {
      "text/plain": [
       "(94733, 5)"
      ]
     },
     "execution_count": 164,
     "metadata": {},
     "output_type": "execute_result"
    }
   ],
   "source": [
    "sentence_pairs.shape"
   ]
  },
  {
   "cell_type": "code",
   "execution_count": 165,
   "metadata": {},
   "outputs": [
    {
     "data": {
      "text/plain": [
       "labels\n",
       "0    59999\n",
       "1    34734\n",
       "Name: cos_sim, dtype: int64"
      ]
     },
     "execution_count": 165,
     "metadata": {},
     "output_type": "execute_result"
    }
   ],
   "source": [
    "sentence_pairs.groupby(\"labels\")[\"cos_sim\"].count()"
   ]
  },
  {
   "cell_type": "code",
   "execution_count": null,
   "metadata": {},
   "outputs": [],
   "source": []
  }
 ],
 "metadata": {
  "kernelspec": {
   "display_name": "nlp-project",
   "language": "python",
   "name": "python3"
  },
  "language_info": {
   "codemirror_mode": {
    "name": "ipython",
    "version": 3
   },
   "file_extension": ".py",
   "mimetype": "text/x-python",
   "name": "python",
   "nbconvert_exporter": "python",
   "pygments_lexer": "ipython3",
   "version": "3.11.7"
  }
 },
 "nbformat": 4,
 "nbformat_minor": 2
}
