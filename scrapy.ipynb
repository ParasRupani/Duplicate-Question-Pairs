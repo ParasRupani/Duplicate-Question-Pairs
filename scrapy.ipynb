{
 "cells": [
  {
   "cell_type": "code",
   "execution_count": 1,
   "metadata": {},
   "outputs": [],
   "source": [
    "# !pip install Selenium\n",
    "# !pip install webdriver-manager"
   ]
  },
  {
   "cell_type": "code",
   "execution_count": 1,
   "metadata": {},
   "outputs": [],
   "source": [
    "from selenium import webdriver\n",
    "from selenium.webdriver.common.keys import Keys\n",
    "from selenium.webdriver.common.by import By\n",
    "import pandas as pd\n",
    "import csv\n",
    "import tqdm\n",
    "import time\n",
    "import os"
   ]
  },
  {
   "cell_type": "code",
   "execution_count": 78,
   "metadata": {},
   "outputs": [],
   "source": [
    "# url_path = \"https://itjobscareers.quora.com/questions\"\n",
    "# url_path = \"https://technologicalidea.quora.com/questions\"\n",
    "# url_path = \"https://itjobscareers.quora.com/questions\"\n",
    "# url_path = \"https://machinelearning1.quora.com/questions\"\n",
    "# url_path = \"https://smartesttech.quora.com/questions\"\n",
    "# url_path = \"https://androidapps.quora.com/questions\"\n",
    "# url_path = \"https://startupstepbystep.quora.com/questions\"\n",
    "# url_path = \"https://technologycareers.quora.com/questions\"\n",
    "# url_path = \"https://learntechnology.quora.com/questions\"\n",
    "# url_path = \"https://techandtrendslounge.quora.com/questions\"\n",
    "url_path = \"https://iosapps.quora.com/questions\"\n",
    "# https://chatgpt5.quora.com/questions\n",
    "csv_path = \"data_nlp/iosapps.csv\"\n",
    "limit = 20000 # Set number of data to scrape\n",
    "stime = 3 # Set sleep time, if browser or network is slow, set higher sleep time "
   ]
  },
  {
   "cell_type": "code",
   "execution_count": 79,
   "metadata": {},
   "outputs": [],
   "source": [
    "driver = webdriver.Chrome()"
   ]
  },
  {
   "cell_type": "code",
   "execution_count": 80,
   "metadata": {},
   "outputs": [],
   "source": [
    "driver.get(url_path)"
   ]
  },
  {
   "cell_type": "code",
   "execution_count": 81,
   "metadata": {},
   "outputs": [],
   "source": [
    "assert  not os.path.exists(csv_path), print(\"File already exists!!!\")"
   ]
  },
  {
   "cell_type": "code",
   "execution_count": 82,
   "metadata": {},
   "outputs": [],
   "source": [
    "df = pd.DataFrame([],columns=[\"q1\"])\n",
    "df.to_csv(csv_path, index_label=False)"
   ]
  },
  {
   "cell_type": "code",
   "execution_count": 83,
   "metadata": {},
   "outputs": [],
   "source": [
    "def write_csv(filename, newlist, pbar):\n",
    "    for i in newlist:\n",
    "        with open(filename,'a') as fd:\n",
    "            writer = csv.writer(fd)\n",
    "            writer.writerow([i.text])\n",
    "        pbar.update(1)"
   ]
  },
  {
   "cell_type": "code",
   "execution_count": 84,
   "metadata": {},
   "outputs": [
    {
     "name": "stderr",
     "output_type": "stream",
     "text": [
      "  6%|▌         | 1138/20000 [11:32<3:11:21,  1.64it/s]\n"
     ]
    }
   ],
   "source": [
    "n_count = 0\n",
    "ecount = 0\n",
    "with tqdm.tqdm(total=limit) as pbar:\n",
    "    while n_count < limit:\n",
    "        try:\n",
    "            qlist = driver.find_elements(By.XPATH, \"//div[@class='q-box']/div/span\")\n",
    "            write_csv(csv_path, qlist[n_count:], pbar)\n",
    "            n_count = len(qlist)\n",
    "            driver.execute_script(\"window.scrollTo(0, document.body.scrollHeight);\")\n",
    "            time.sleep(5)\n",
    "        except:\n",
    "            ecount += 1\n",
    "            if ecount > 10:\n",
    "                break"
   ]
  },
  {
   "cell_type": "code",
   "execution_count": 51,
   "metadata": {},
   "outputs": [
    {
     "data": {
      "text/html": [
       "<div>\n",
       "<style scoped>\n",
       "    .dataframe tbody tr th:only-of-type {\n",
       "        vertical-align: middle;\n",
       "    }\n",
       "\n",
       "    .dataframe tbody tr th {\n",
       "        vertical-align: top;\n",
       "    }\n",
       "\n",
       "    .dataframe thead th {\n",
       "        text-align: right;\n",
       "    }\n",
       "</style>\n",
       "<table border=\"1\" class=\"dataframe\">\n",
       "  <thead>\n",
       "    <tr style=\"text-align: right;\">\n",
       "      <th></th>\n",
       "      <th>q1</th>\n",
       "    </tr>\n",
       "  </thead>\n",
       "  <tbody>\n",
       "    <tr>\n",
       "      <th>0</th>\n",
       "      <td>Which state has a friendlier business environm...</td>\n",
       "    </tr>\n",
       "    <tr>\n",
       "      <th>1</th>\n",
       "      <td>Which online business can earn me USD 130,000 ...</td>\n",
       "    </tr>\n",
       "    <tr>\n",
       "      <th>2</th>\n",
       "      <td>What are some must-read books for entrepreneur...</td>\n",
       "    </tr>\n",
       "    <tr>\n",
       "      <th>3</th>\n",
       "      <td>Can you show me the business plan for the prop...</td>\n",
       "    </tr>\n",
       "    <tr>\n",
       "      <th>4</th>\n",
       "      <td>How do I find a gap in an industry that needs ...</td>\n",
       "    </tr>\n",
       "    <tr>\n",
       "      <th>...</th>\n",
       "      <td>...</td>\n",
       "    </tr>\n",
       "    <tr>\n",
       "      <th>772</th>\n",
       "      <td>Why no one demand university to change, when t...</td>\n",
       "    </tr>\n",
       "    <tr>\n",
       "      <th>773</th>\n",
       "      <td>What do people do if you start a company but i...</td>\n",
       "    </tr>\n",
       "    <tr>\n",
       "      <th>774</th>\n",
       "      <td>What kind of people have long dormant desire f...</td>\n",
       "    </tr>\n",
       "    <tr>\n",
       "      <th>775</th>\n",
       "      <td>I want to be a full stack coder after high sch...</td>\n",
       "    </tr>\n",
       "    <tr>\n",
       "      <th>776</th>\n",
       "      <td>For a full stack coder job today, how long and...</td>\n",
       "    </tr>\n",
       "  </tbody>\n",
       "</table>\n",
       "<p>777 rows × 1 columns</p>\n",
       "</div>"
      ],
      "text/plain": [
       "                                                    q1\n",
       "0    Which state has a friendlier business environm...\n",
       "1    Which online business can earn me USD 130,000 ...\n",
       "2    What are some must-read books for entrepreneur...\n",
       "3    Can you show me the business plan for the prop...\n",
       "4    How do I find a gap in an industry that needs ...\n",
       "..                                                 ...\n",
       "772  Why no one demand university to change, when t...\n",
       "773  What do people do if you start a company but i...\n",
       "774  What kind of people have long dormant desire f...\n",
       "775  I want to be a full stack coder after high sch...\n",
       "776  For a full stack coder job today, how long and...\n",
       "\n",
       "[777 rows x 1 columns]"
      ]
     },
     "execution_count": 51,
     "metadata": {},
     "output_type": "execute_result"
    }
   ],
   "source": [
    "df = pd.read_csv(csv_path, encoding='cp1252')\n",
    "df"
   ]
  },
  {
   "cell_type": "code",
   "execution_count": null,
   "metadata": {},
   "outputs": [],
   "source": []
  }
 ],
 "metadata": {
  "kernelspec": {
   "display_name": "Python 3",
   "language": "python",
   "name": "python3"
  },
  "language_info": {
   "codemirror_mode": {
    "name": "ipython",
    "version": 3
   },
   "file_extension": ".py",
   "mimetype": "text/x-python",
   "name": "python",
   "nbconvert_exporter": "python",
   "pygments_lexer": "ipython3",
   "version": "3.11.7"
  }
 },
 "nbformat": 4,
 "nbformat_minor": 2
}
