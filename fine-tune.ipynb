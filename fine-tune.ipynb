{
 "cells": [
  {
   "cell_type": "markdown",
   "metadata": {},
   "source": [
    "### **1. Data pre-processing**"
   ]
  },
  {
   "cell_type": "code",
   "execution_count": 1,
   "metadata": {},
   "outputs": [],
   "source": [
    "import pandas as pd\n",
    "import random\n",
    "\n",
    "# Load example dataset (Replace with the path to your original dataset for fine-tuning the model)\n",
    "data = pd.read_csv(\"data\\merged_dataset.csv\")\n",
    "\n",
    "# Remove rows with missing values\n",
    "data = data[data.notna()[\"q1\"] * data.notna()[\"q2\"]].reset_index(drop=True)"
   ]
  },
  {
   "cell_type": "code",
   "execution_count": 2,
   "metadata": {},
   "outputs": [],
   "source": [
    "# Add random label to the samples\n",
    "data[\"labels\"] = [random.choice([0,1]) for i in range(len(data))]"
   ]
  },
  {
   "cell_type": "code",
   "execution_count": 3,
   "metadata": {},
   "outputs": [
    {
     "data": {
      "text/html": [
       "<div>\n",
       "<style scoped>\n",
       "    .dataframe tbody tr th:only-of-type {\n",
       "        vertical-align: middle;\n",
       "    }\n",
       "\n",
       "    .dataframe tbody tr th {\n",
       "        vertical-align: top;\n",
       "    }\n",
       "\n",
       "    .dataframe thead th {\n",
       "        text-align: right;\n",
       "    }\n",
       "</style>\n",
       "<table border=\"1\" class=\"dataframe\">\n",
       "  <thead>\n",
       "    <tr style=\"text-align: right;\">\n",
       "      <th></th>\n",
       "      <th>q1</th>\n",
       "      <th>q2</th>\n",
       "      <th>labels</th>\n",
       "    </tr>\n",
       "  </thead>\n",
       "  <tbody>\n",
       "    <tr>\n",
       "      <th>0</th>\n",
       "      <td>Can I make a new phone out of this old Motorol...</td>\n",
       "      <td>My brother blocked me on WhatsApp so I want to...</td>\n",
       "      <td>0</td>\n",
       "    </tr>\n",
       "    <tr>\n",
       "      <th>1</th>\n",
       "      <td>Is there a log or something on an Android devi...</td>\n",
       "      <td>How do I use the MyCo app for earning?</td>\n",
       "      <td>0</td>\n",
       "    </tr>\n",
       "    <tr>\n",
       "      <th>2</th>\n",
       "      <td>Which mobile is best with 256 ROM, 8 or 12 RAM...</td>\n",
       "      <td>What can you tell me about the Realme 10 Pro P...</td>\n",
       "      <td>0</td>\n",
       "    </tr>\n",
       "    <tr>\n",
       "      <th>3</th>\n",
       "      <td>What are the features of FMWhatsApp?</td>\n",
       "      <td>What Tecno phone supports VR videos?</td>\n",
       "      <td>1</td>\n",
       "    </tr>\n",
       "    <tr>\n",
       "      <th>4</th>\n",
       "      <td>How do handsfree devices enhance the mobile ex...</td>\n",
       "      <td>How can I tell if someone is listening to my m...</td>\n",
       "      <td>1</td>\n",
       "    </tr>\n",
       "  </tbody>\n",
       "</table>\n",
       "</div>"
      ],
      "text/plain": [
       "                                                  q1  \\\n",
       "0  Can I make a new phone out of this old Motorol...   \n",
       "1  Is there a log or something on an Android devi...   \n",
       "2  Which mobile is best with 256 ROM, 8 or 12 RAM...   \n",
       "3               What are the features of FMWhatsApp?   \n",
       "4  How do handsfree devices enhance the mobile ex...   \n",
       "\n",
       "                                                  q2  labels  \n",
       "0  My brother blocked me on WhatsApp so I want to...       0  \n",
       "1             How do I use the MyCo app for earning?       0  \n",
       "2  What can you tell me about the Realme 10 Pro P...       0  \n",
       "3               What Tecno phone supports VR videos?       1  \n",
       "4  How can I tell if someone is listening to my m...       1  "
      ]
     },
     "execution_count": 3,
     "metadata": {},
     "output_type": "execute_result"
    }
   ],
   "source": [
    "# Display few samples\n",
    "data.head()"
   ]
  },
  {
   "cell_type": "code",
   "execution_count": 4,
   "metadata": {},
   "outputs": [],
   "source": [
    "from sklearn.model_selection import train_test_split\n",
    "\n",
    "train_data, test_data = train_test_split(data, test_size=0.2, random_state=42)\n",
    "train_data = train_data.reset_index(drop=True)\n",
    "test_data = test_data.reset_index(drop=True)"
   ]
  },
  {
   "cell_type": "markdown",
   "metadata": {},
   "source": [
    "### **2. Model Fine-Tuning**"
   ]
  },
  {
   "cell_type": "code",
   "execution_count": 6,
   "metadata": {},
   "outputs": [],
   "source": [
    "# Import the CrossEncoder class from the sentence_transformers library\n",
    "from sentence_transformers import CrossEncoder\n",
    "\n",
    "# Initialize a CrossEncoder model using the 'quora-distilroberta-base' pre-trained model, which is trained on the Quora dataset\n",
    "# Specify the device to use for computation (e.g., 'cuda' for GPU or 'cpu' for CPU)\n",
    "model = CrossEncoder('cross-encoder/quora-distilroberta-base', device='cuda')"
   ]
  },
  {
   "cell_type": "code",
   "execution_count": 7,
   "metadata": {},
   "outputs": [
    {
     "name": "stdout",
     "output_type": "stream",
     "text": [
      "[0.9724152]\n"
     ]
    }
   ],
   "source": [
    "# Predict similarity scores for a pair of input sentences using the pre-trained CrossEncoder model.\n",
    "# The input is provided as a list of tuples, each containing two sentences to compare.\n",
    "# The model computes a score indicating the similarity between the two sentences.\n",
    "scores = model.predict([('What are the exams to get a job in forensic', 'Which exams should i attend to get a job in forensic')])\n",
    "\n",
    "# Output the similarity score computed by the model for the given input sentences.\n",
    "print(scores)"
   ]
  },
  {
   "cell_type": "markdown",
   "metadata": {},
   "source": [
    "#### **Training data**"
   ]
  },
  {
   "cell_type": "code",
   "execution_count": 24,
   "metadata": {},
   "outputs": [],
   "source": [
    "# Import necessary modules\n",
    "from sentence_transformers.cross_encoder.evaluation import CEBinaryClassificationEvaluator\n",
    "from sentence_transformers import InputExample, losses, LoggingHandler\n",
    "from torch.utils.data import DataLoader\n",
    "import math\n",
    "import logging"
   ]
  },
  {
   "cell_type": "code",
   "execution_count": 25,
   "metadata": {},
   "outputs": [],
   "source": [
    "# Initialize empty lists to store training and validation examples\n",
    "train_examples = []\n",
    "valid_examples = []\n",
    "\n",
    "# Loop through each row in the train_data DataFrame\n",
    "for ind in range(len(train_data)):\n",
    "    # Create an InputExample object for each pair of questions in the train_data DataFrame\n",
    "    # The texts argument contains a list of the two questions\n",
    "    # The label argument contains the corresponding label (cast to integer)\n",
    "    train_examples.append(InputExample(texts=[train_data.loc[ind, \"q1\"], train_data.loc[ind, \"q2\"]], label=int(train_data.loc[ind, \"labels\"])))\n",
    "\n",
    "# Loop through each row in the test_data DataFrame\n",
    "for ind in range(len(test_data)):\n",
    "    # Create an InputExample object for each pair of questions in the test_data DataFrame\n",
    "    # The texts argument contains a list of the two questions\n",
    "    # The label argument contains the corresponding label (cast to integer)\n",
    "    valid_examples.append(InputExample(texts=[test_data.loc[ind, \"q1\"], test_data.loc[ind, \"q2\"]], label=int(test_data.loc[ind, \"labels\"])))\n"
   ]
  },
  {
   "cell_type": "code",
   "execution_count": 10,
   "metadata": {},
   "outputs": [],
   "source": [
    "train_dataloader = DataLoader(train_examples, shuffle=True, batch_size=16)\n",
    "valid_dataloader = DataLoader(valid_examples, shuffle=False, batch_size=16)"
   ]
  },
  {
   "cell_type": "code",
   "execution_count": 11,
   "metadata": {},
   "outputs": [],
   "source": [
    "train_loss = losses.CosineSimilarityLoss(model)"
   ]
  },
  {
   "cell_type": "code",
   "execution_count": 13,
   "metadata": {},
   "outputs": [],
   "source": [
    "evaluator = CEBinaryClassificationEvaluator(list(zip(test_data[\"q1\"].to_list(),\n",
    "                                            test_data[\"q2\"].to_list())),\n",
    "                                            test_data[\"labels\"].to_list(),\n",
    "                                            name=\"Test-Quora\")"
   ]
  },
  {
   "cell_type": "code",
   "execution_count": 14,
   "metadata": {},
   "outputs": [],
   "source": [
    "num_epochs = 10\n",
    "warm_up_steps = math.ceil(len(train_dataloader)*0.1)\n",
    "output_path = \"model_checkpoints\""
   ]
  },
  {
   "cell_type": "code",
   "execution_count": 22,
   "metadata": {},
   "outputs": [
    {
     "name": "stdout",
     "output_type": "stream",
     "text": [
      "2024-04-10 13:53:11 - Train samples: 16076\n",
      "2024-04-10 13:53:11 - Warmup-steps: 101\n"
     ]
    }
   ],
   "source": [
    "\n",
    "logging.basicConfig(\n",
    "    format=\"%(asctime)s - %(message)s\", datefmt=\"%Y-%m-%d %H:%M:%S\", level=logging.INFO, handlers=[LoggingHandler()]\n",
    ")\n",
    "\n",
    "logging.info(\"Train samples: {}\".format(len(train_examples)))\n",
    "logging.info(\"Warmup-steps: {}\".format(warm_up_steps))\n"
   ]
  },
  {
   "cell_type": "code",
   "execution_count": 26,
   "metadata": {},
   "outputs": [],
   "source": [
    "# model.fit(train_dataloader=train_dataloader,\n",
    "#           epochs=num_epochs,\n",
    "#           evaluator=evaluator,\n",
    "#           evaluation_steps=100,\n",
    "#           warmup_steps=warm_up_steps,\n",
    "#           output_path=output_path,\n",
    "#           show_progress_bar=True,\n",
    "#           use_amp=True)"
   ]
  },
  {
   "cell_type": "code",
   "execution_count": null,
   "metadata": {},
   "outputs": [],
   "source": []
  }
 ],
 "metadata": {
  "kernelspec": {
   "display_name": "nlp-project",
   "language": "python",
   "name": "python3"
  },
  "language_info": {
   "codemirror_mode": {
    "name": "ipython",
    "version": 3
   },
   "file_extension": ".py",
   "mimetype": "text/x-python",
   "name": "python",
   "nbconvert_exporter": "python",
   "pygments_lexer": "ipython3",
   "version": "3.11.7"
  }
 },
 "nbformat": 4,
 "nbformat_minor": 2
}
